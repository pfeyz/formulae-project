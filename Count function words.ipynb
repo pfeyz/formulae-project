{
 "cells": [
  {
   "cell_type": "markdown",
   "metadata": {},
   "source": [
    "# Counting function Unigrams"
   ]
  },
  {
   "cell_type": "code",
   "execution_count": 1,
   "metadata": {
    "collapsed": true
   },
   "outputs": [],
   "source": [
    "%matplotlib inline\n",
    "import pandas as pd\n",
    "import numpy as np\n",
    "import matplotlib\n",
    "import matplotlib.pyplot as plt\n",
    "\n",
    "from dataset import get_manchester\n",
    "from functionword_tagger import FunctionWordTagger\n",
    "\n",
    "plt.rcParams['figure.figsize'] = 15, 6"
   ]
  },
  {
   "cell_type": "code",
   "execution_count": 2,
   "metadata": {
    "collapsed": true
   },
   "outputs": [],
   "source": [
    "unigrams, bigrams, trigrams = get_manchester(\"E:/project/Manchester/**/*\", \n",
    "                                            cached=True, \n",
    "                                            gram_sizes=[1, 2, 3])"
   ]
  },
  {
   "cell_type": "code",
   "execution_count": 3,
   "metadata": {
    "collapsed": true
   },
   "outputs": [],
   "source": [
    "ftagger = FunctionWordTagger()\n",
    "\n",
    "def categorize_ngram(ngram):\n",
    "    return '/'.join(ftagger.categorize(word) for word in ngram.split(' '))"
   ]
  },
  {
   "cell_type": "code",
   "execution_count": 4,
   "metadata": {
    "collapsed": true
   },
   "outputs": [],
   "source": [
    "unigrams['fcat'] = unigrams.ngram.apply(categorize_ngram)\n",
    "bigrams['fcat'] = bigrams.ngram.apply(categorize_ngram)"
   ]
  },
  {
   "cell_type": "code",
   "execution_count": 5,
   "metadata": {
    "collapsed": true
   },
   "outputs": [],
   "source": [
    "unigrams = unigrams[unigrams.speaker.isin(['CHI', 'MOT'])]\n",
    "bigrams = bigrams[bigrams.speaker.isin(['CHI', 'MOT'])]\n",
    "trigrams = trigrams[trigrams.speaker.isin(['CHI', 'MOT'])]"
   ]
  },
  {
   "cell_type": "markdown",
   "metadata": {},
   "source": [
    "## First 17 session\n",
    "### Child"
   ]
  },
  {
   "cell_type": "code",
   "execution_count": 22,
   "metadata": {},
   "outputs": [],
   "source": [
    "count_function = unigrams[(unigrams.fcat.eq('F'))&(unigrams.speaker.eq('CHI'))&(unigrams.session < 18)].groupby('ngram').count().reset_index()"
   ]
  },
  {
   "cell_type": "markdown",
   "metadata": {},
   "source": [
    "### Determines child"
   ]
  },
  {
   "cell_type": "code",
   "execution_count": 12,
   "metadata": {},
   "outputs": [
    {
     "data": {
      "text/plain": [
       "1598.3333333333333"
      ]
     },
     "execution_count": 12,
     "metadata": {},
     "output_type": "execute_result"
    }
   ],
   "source": [
    "determiners = ['the', 'a', 'an', 'this', 'that', 'these','those', 'such']\n",
    "n = 0\n",
    "for unigram in count_function['ngram']:\n",
    "    if unigram in determiners:\n",
    "        n += count_function[count_function.ngram.eq(unigram)].iloc[0]['fcat']\n",
    "n = n / 12\n",
    "n"
   ]
  },
  {
   "cell_type": "markdown",
   "metadata": {},
   "source": [
    "## Conjunctions_child"
   ]
  },
  {
   "cell_type": "code",
   "execution_count": 21,
   "metadata": {},
   "outputs": [
    {
     "data": {
      "text/plain": [
       "176.25"
      ]
     },
     "execution_count": 21,
     "metadata": {},
     "output_type": "execute_result"
    }
   ],
   "source": [
    "conjunctions = ['for', 'And',\n",
    "'therefore',\n",
    "'nor',\n",
    "'but',\n",
    "'or',\n",
    "'thence',\n",
    "'then',\n",
    "'yet',\n",
    "'so',\n",
    "'although',\n",
    "'also',\n",
    "'as',\n",
    "'because',\n",
    "'before',\n",
    "'If',\n",
    "'lest',\n",
    "'since',\n",
    "'than',\n",
    "'once',\n",
    "'only',\n",
    "'though',\n",
    "'til',\n",
    "'unless',\n",
    "'when',\n",
    "'whenever',\n",
    "'where',\n",
    "'wherever',\n",
    "'while',\n",
    "'whereas',\n",
    "'hence']\n",
    "n = 0\n",
    "for unigram in count_function['ngram']:\n",
    "    if unigram in conjunctions:\n",
    "        n += count_function[count_function.ngram.eq(unigram)].iloc[0]['fcat']\n",
    "n = n / 12\n",
    "n"
   ]
  },
  {
   "cell_type": "markdown",
   "metadata": {},
   "source": [
    "## prepositions_child"
   ]
  },
  {
   "cell_type": "code",
   "execution_count": 13,
   "metadata": {},
   "outputs": [
    {
     "data": {
      "text/plain": [
       "2237.8333333333335"
      ]
     },
     "execution_count": 13,
     "metadata": {},
     "output_type": "execute_result"
    }
   ],
   "source": [
    "raw_prepositions = open(\"E:/project/formulae-project-master/prepositions.txt\").readlines()\n",
    "prepositions = []\n",
    "for a in raw_prepositions:\n",
    "    prepositions.append(a.strip())\n",
    "prepositions = list(map(str.lower, prepositions))\n",
    "\n",
    "n = 0\n",
    "for unigram in count_function['ngram']:\n",
    "    if unigram in prepositions:\n",
    "        n += count_function[count_function.ngram.eq(unigram)].iloc[0]['fcat']\n",
    "n = n / 12\n",
    "n"
   ]
  },
  {
   "cell_type": "markdown",
   "metadata": {},
   "source": [
    "## pronouns_child"
   ]
  },
  {
   "cell_type": "code",
   "execution_count": 14,
   "metadata": {},
   "outputs": [
    {
     "data": {
      "text/plain": [
       "1100.8333333333333"
      ]
     },
     "execution_count": 14,
     "metadata": {},
     "output_type": "execute_result"
    }
   ],
   "source": [
    "raw_pronouns = open(\"E:/project/formulae-project-master/pronouns.txt\").readlines()\n",
    "pronouns = []\n",
    "for a in raw_pronouns:\n",
    "    pronouns.append(a.strip())\n",
    "pronouns = list(map(str.lower, pronouns))\n",
    "\n",
    "n = 0\n",
    "for unigram in count_function['ngram']:\n",
    "    if unigram in pronouns:\n",
    "        n += count_function[count_function.ngram.eq(unigram)].iloc[0]['fcat']\n",
    "n = n / 12\n",
    "n"
   ]
  },
  {
   "cell_type": "markdown",
   "metadata": {},
   "source": [
    "## auxiliaries_child"
   ]
  },
  {
   "cell_type": "code",
   "execution_count": 15,
   "metadata": {},
   "outputs": [
    {
     "data": {
      "text/plain": [
       "342.41666666666669"
      ]
     },
     "execution_count": 15,
     "metadata": {},
     "output_type": "execute_result"
    }
   ],
   "source": [
    "auxiliaries = ['be', 'am', \n",
    "'are',\n",
    "'is',\n",
    "'was',\n",
    "'were',\n",
    "'do',\n",
    "'does',\n",
    "'doing',\n",
    "'did',\n",
    "'done',\n",
    "'got_to',\n",
    "'been',\n",
    "'being']\n",
    "n = 0\n",
    "for unigram in count_function['ngram']:\n",
    "    if unigram in auxiliaries:\n",
    "        n += count_function[count_function.ngram.eq(unigram)].iloc[0]['fcat']\n",
    "n = n / 12\n",
    "n"
   ]
  },
  {
   "cell_type": "markdown",
   "metadata": {},
   "source": [
    "## modals_child"
   ]
  },
  {
   "cell_type": "code",
   "execution_count": 16,
   "metadata": {},
   "outputs": [
    {
     "data": {
      "text/plain": [
       "25.75"
      ]
     },
     "execution_count": 16,
     "metadata": {},
     "output_type": "execute_result"
    }
   ],
   "source": [
    "modals = [\n",
    "'can',\n",
    "'cannot',\n",
    "'could',\n",
    "'should',\n",
    "'shall',\n",
    "'may',\n",
    "'might',\n",
    "'must',\n",
    "'will',\n",
    "'would',\n",
    "'ought']\n",
    "n = 0\n",
    "for unigram in count_function['ngram']:\n",
    "    if unigram in modals:\n",
    "        n += count_function[count_function.ngram.eq(unigram)].iloc[0]['fcat']\n",
    "n = n / 12\n",
    "n"
   ]
  },
  {
   "cell_type": "markdown",
   "metadata": {},
   "source": [
    "## quantifiers_child"
   ]
  },
  {
   "cell_type": "code",
   "execution_count": 17,
   "metadata": {},
   "outputs": [
    {
     "data": {
      "text/plain": [
       "1185.9166666666667"
      ]
     },
     "execution_count": 17,
     "metadata": {},
     "output_type": "execute_result"
    }
   ],
   "source": [
    "raw_quantifiers = open(\"E:/project/formulae-project-master/quantifiers.txt\").readlines()\n",
    "quantifiers = []\n",
    "for a in raw_quantifiers:\n",
    "    quantifiers.append(a.strip())\n",
    "quantifiers = list(map(str.lower, quantifiers))\n",
    "\n",
    "n = 0\n",
    "for unigram in count_function['ngram']:\n",
    "    if unigram in quantifiers:\n",
    "        n += count_function[count_function.ngram.eq(unigram)].iloc[0]['fcat']\n",
    "n = n / 12\n",
    "n"
   ]
  },
  {
   "cell_type": "markdown",
   "metadata": {},
   "source": [
    "## fragments_child"
   ]
  },
  {
   "cell_type": "code",
   "execution_count": 18,
   "metadata": {},
   "outputs": [
    {
     "data": {
      "text/plain": [
       "770.33333333333337"
      ]
     },
     "execution_count": 18,
     "metadata": {},
     "output_type": "execute_result"
    }
   ],
   "source": [
    "fragments = [\n",
    "\"'s\",\n",
    "\"n't\",\n",
    "\"'ve\",\n",
    "\"ca\",\n",
    "\"wo\",\n",
    "\"'re\",\n",
    "\"'m\",\n",
    "\"'d\",\n",
    "\"sha\",\n",
    "\"'ll\"]\n",
    "n = 0\n",
    "for unigram in count_function['ngram']:\n",
    "    if unigram in fragments:\n",
    "        n += count_function[count_function.ngram.eq(unigram)].iloc[0]['fcat']\n",
    "n = n / 12\n",
    "n"
   ]
  },
  {
   "cell_type": "markdown",
   "metadata": {},
   "source": [
    "## question words_child"
   ]
  },
  {
   "cell_type": "code",
   "execution_count": 19,
   "metadata": {},
   "outputs": [
    {
     "data": {
      "text/plain": [
       "180.83333333333334"
      ]
     },
     "execution_count": 19,
     "metadata": {},
     "output_type": "execute_result"
    }
   ],
   "source": [
    "question_words = [\n",
    "'what',\n",
    "'why',\n",
    "'how',\n",
    "'who',\n",
    "'which',\n",
    "'whose',\n",
    "'whom',\n",
    "'whence',\n",
    "'whither']\n",
    "n = 0\n",
    "for unigram in count_function['ngram']:\n",
    "    if unigram in question_words:\n",
    "        n += count_function[count_function.ngram.eq(unigram)].iloc[0]['fcat']\n",
    "n = n / 12\n",
    "n"
   ]
  },
  {
   "cell_type": "markdown",
   "metadata": {},
   "source": [
    "## number_child"
   ]
  },
  {
   "cell_type": "code",
   "execution_count": 20,
   "metadata": {},
   "outputs": [
    {
     "data": {
      "text/plain": [
       "422.25"
      ]
     },
     "execution_count": 20,
     "metadata": {},
     "output_type": "execute_result"
    }
   ],
   "source": [
    "number = [\n",
    "'one',\n",
    "'two',\n",
    "'three',\n",
    "'four',\n",
    "'five',\n",
    "'six',\n",
    "'seven',\n",
    "'eight',\n",
    "'nine',\n",
    "'ten',\n",
    "'first',\n",
    "'second',\n",
    "'third',\n",
    "'fourth',\n",
    "'fifth',\n",
    "'sixth',\n",
    "'seventh',\n",
    "'eighth',\n",
    "'ninth',\n",
    "'tenth']\n",
    "n = 0\n",
    "for unigram in count_function['ngram']:\n",
    "    if unigram in number:\n",
    "        n += count_function[count_function.ngram.eq(unigram)].iloc[0]['fcat']\n",
    "n = n / 12\n",
    "n"
   ]
  },
  {
   "cell_type": "markdown",
   "metadata": {},
   "source": [
    "## First 17 session\n",
    "### Mother"
   ]
  },
  {
   "cell_type": "code",
   "execution_count": 56,
   "metadata": {
    "collapsed": true
   },
   "outputs": [],
   "source": [
    "count_function = unigrams[(unigrams.fcat.eq('F'))&(unigrams.speaker.eq('MOT'))&(unigrams.session < 18)].groupby('ngram').count().reset_index()"
   ]
  },
  {
   "cell_type": "markdown",
   "metadata": {},
   "source": [
    "### determiners mother"
   ]
  },
  {
   "cell_type": "code",
   "execution_count": 24,
   "metadata": {},
   "outputs": [
    {
     "data": {
      "text/plain": [
       "5511.333333333333"
      ]
     },
     "execution_count": 24,
     "metadata": {},
     "output_type": "execute_result"
    }
   ],
   "source": [
    "determiners = ['the', 'a', 'an', 'this', 'that', 'these','those', 'such']\n",
    "n = 0\n",
    "for unigram in count_function['ngram']:\n",
    "    if unigram in determiners:\n",
    "        n += count_function[count_function.ngram.eq(unigram)].iloc[0]['fcat']\n",
    "n = n / 12\n",
    "n"
   ]
  },
  {
   "cell_type": "markdown",
   "metadata": {},
   "source": [
    "### conjunctions mother"
   ]
  },
  {
   "cell_type": "code",
   "execution_count": 25,
   "metadata": {},
   "outputs": [
    {
     "data": {
      "text/plain": [
       "1487.9166666666667"
      ]
     },
     "execution_count": 25,
     "metadata": {},
     "output_type": "execute_result"
    }
   ],
   "source": [
    "conjunctions = ['for', 'And',\n",
    "'therefore',\n",
    "'nor',\n",
    "'but',\n",
    "'or',\n",
    "'thence',\n",
    "'then',\n",
    "'yet',\n",
    "'so',\n",
    "'although',\n",
    "'also',\n",
    "'as',\n",
    "'because',\n",
    "'before',\n",
    "'If',\n",
    "'lest',\n",
    "'since',\n",
    "'than',\n",
    "'once',\n",
    "'only',\n",
    "'though',\n",
    "'til',\n",
    "'unless',\n",
    "'when',\n",
    "'whenever',\n",
    "'where',\n",
    "'wherever',\n",
    "'while',\n",
    "'whereas',\n",
    "'hence']\n",
    "n = 0\n",
    "for unigram in count_function['ngram']:\n",
    "    if unigram in conjunctions:\n",
    "        n += count_function[count_function.ngram.eq(unigram)].iloc[0]['fcat']\n",
    "n = n / 12\n",
    "n"
   ]
  },
  {
   "cell_type": "markdown",
   "metadata": {},
   "source": [
    "### prepositions mother"
   ]
  },
  {
   "cell_type": "code",
   "execution_count": 26,
   "metadata": {},
   "outputs": [
    {
     "data": {
      "text/plain": [
       "6399.75"
      ]
     },
     "execution_count": 26,
     "metadata": {},
     "output_type": "execute_result"
    }
   ],
   "source": [
    "raw_prepositions = open(\"E:/project/formulae-project-master/prepositions.txt\").readlines()\n",
    "prepositions = []\n",
    "for a in raw_prepositions:\n",
    "    prepositions.append(a.strip())\n",
    "prepositions = list(map(str.lower, prepositions))\n",
    "\n",
    "n = 0\n",
    "for unigram in count_function['ngram']:\n",
    "    if unigram in prepositions:\n",
    "        n += count_function[count_function.ngram.eq(unigram)].iloc[0]['fcat']\n",
    "n = n / 12\n",
    "n"
   ]
  },
  {
   "cell_type": "markdown",
   "metadata": {},
   "source": [
    "### pronouns mother"
   ]
  },
  {
   "cell_type": "code",
   "execution_count": 27,
   "metadata": {},
   "outputs": [
    {
     "data": {
      "text/plain": [
       "8815.1666666666661"
      ]
     },
     "execution_count": 27,
     "metadata": {},
     "output_type": "execute_result"
    }
   ],
   "source": [
    "raw_pronouns = open(\"E:/project/formulae-project-master/pronouns.txt\").readlines()\n",
    "pronouns = []\n",
    "for a in raw_pronouns:\n",
    "    pronouns.append(a.strip())\n",
    "pronouns = list(map(str.lower, pronouns))\n",
    "\n",
    "n = 0\n",
    "for unigram in count_function['ngram']:\n",
    "    if unigram in pronouns:\n",
    "        n += count_function[count_function.ngram.eq(unigram)].iloc[0]['fcat']\n",
    "n = n / 12\n",
    "n"
   ]
  },
  {
   "cell_type": "markdown",
   "metadata": {},
   "source": [
    "### auxiliaries mother"
   ]
  },
  {
   "cell_type": "code",
   "execution_count": 28,
   "metadata": {},
   "outputs": [
    {
     "data": {
      "text/plain": [
       "4344.75"
      ]
     },
     "execution_count": 28,
     "metadata": {},
     "output_type": "execute_result"
    }
   ],
   "source": [
    "auxiliaries = ['be', 'am', \n",
    "'are',\n",
    "'is',\n",
    "'was',\n",
    "'were',\n",
    "'do',\n",
    "'does',\n",
    "'doing',\n",
    "'did',\n",
    "'done',\n",
    "'got_to',\n",
    "'been',\n",
    "'being']\n",
    "n = 0\n",
    "for unigram in count_function['ngram']:\n",
    "    if unigram in auxiliaries:\n",
    "        n += count_function[count_function.ngram.eq(unigram)].iloc[0]['fcat']\n",
    "n = n / 12\n",
    "n"
   ]
  },
  {
   "cell_type": "markdown",
   "metadata": {},
   "source": [
    "### modals mother"
   ]
  },
  {
   "cell_type": "code",
   "execution_count": 30,
   "metadata": {},
   "outputs": [
    {
     "data": {
      "text/plain": [
       "1032.25"
      ]
     },
     "execution_count": 30,
     "metadata": {},
     "output_type": "execute_result"
    }
   ],
   "source": [
    "modals = [\n",
    "'can',\n",
    "'cannot',\n",
    "'could',\n",
    "'should',\n",
    "'shall',\n",
    "'may',\n",
    "'might',\n",
    "'must',\n",
    "'will',\n",
    "'would',\n",
    "'ought']\n",
    "n = 0\n",
    "for unigram in count_function['ngram']:\n",
    "    if unigram in modals:\n",
    "        n += count_function[count_function.ngram.eq(unigram)].iloc[0]['fcat']\n",
    "n = n / 12\n",
    "n"
   ]
  },
  {
   "cell_type": "markdown",
   "metadata": {},
   "source": [
    "### quantifiers mother"
   ]
  },
  {
   "cell_type": "code",
   "execution_count": 57,
   "metadata": {},
   "outputs": [
    {
     "data": {
      "text/plain": [
       "2205.0833333333335"
      ]
     },
     "execution_count": 57,
     "metadata": {},
     "output_type": "execute_result"
    }
   ],
   "source": [
    "raw_quantifiers = open(\"E:/project/formulae-project-master/quantifiers.txt\").readlines()\n",
    "quantifiers = []\n",
    "for a in raw_quantifiers:\n",
    "    quantifiers.append(a.strip())\n",
    "quantifiers = list(map(str.lower, quantifiers))\n",
    "\n",
    "n = 0\n",
    "for unigram in count_function['ngram']:\n",
    "    if unigram in quantifiers:\n",
    "        n += count_function[count_function.ngram.eq(unigram)].iloc[0]['fcat']\n",
    "n = n / 12\n",
    "n"
   ]
  },
  {
   "cell_type": "markdown",
   "metadata": {},
   "source": [
    "### fragments mother"
   ]
  },
  {
   "cell_type": "code",
   "execution_count": 31,
   "metadata": {},
   "outputs": [
    {
     "data": {
      "text/plain": [
       "5378.333333333333"
      ]
     },
     "execution_count": 31,
     "metadata": {},
     "output_type": "execute_result"
    }
   ],
   "source": [
    "fragments = [\n",
    "\"'s\",\n",
    "\"n't\",\n",
    "\"'ve\",\n",
    "\"ca\",\n",
    "\"wo\",\n",
    "\"'re\",\n",
    "\"'m\",\n",
    "\"'d\",\n",
    "\"sha\",\n",
    "\"'ll\"]\n",
    "n = 0\n",
    "for unigram in count_function['ngram']:\n",
    "    if unigram in fragments:\n",
    "        n += count_function[count_function.ngram.eq(unigram)].iloc[0]['fcat']\n",
    "n = n / 12\n",
    "n"
   ]
  },
  {
   "cell_type": "markdown",
   "metadata": {},
   "source": [
    "## question_words_mother"
   ]
  },
  {
   "cell_type": "code",
   "execution_count": 32,
   "metadata": {},
   "outputs": [
    {
     "data": {
      "text/plain": [
       "1799.3333333333333"
      ]
     },
     "execution_count": 32,
     "metadata": {},
     "output_type": "execute_result"
    }
   ],
   "source": [
    "question_words = [\n",
    "'what',\n",
    "'why',\n",
    "'how',\n",
    "'who',\n",
    "'which',\n",
    "'whose',\n",
    "'whom',\n",
    "'whence',\n",
    "'whither']\n",
    "n = 0\n",
    "for unigram in count_function['ngram']:\n",
    "    if unigram in question_words:\n",
    "        n += count_function[count_function.ngram.eq(unigram)].iloc[0]['fcat']\n",
    "n = n / 12\n",
    "n"
   ]
  },
  {
   "cell_type": "markdown",
   "metadata": {},
   "source": [
    "## number_mother"
   ]
  },
  {
   "cell_type": "code",
   "execution_count": 33,
   "metadata": {},
   "outputs": [
    {
     "data": {
      "text/plain": [
       "695.91666666666663"
      ]
     },
     "execution_count": 33,
     "metadata": {},
     "output_type": "execute_result"
    }
   ],
   "source": [
    "number = [\n",
    "'one',\n",
    "'two',\n",
    "'three',\n",
    "'four',\n",
    "'five',\n",
    "'six',\n",
    "'seven',\n",
    "'eight',\n",
    "'nine',\n",
    "'ten',\n",
    "'first',\n",
    "'second',\n",
    "'third',\n",
    "'fourth',\n",
    "'fifth',\n",
    "'sixth',\n",
    "'seventh',\n",
    "'eighth',\n",
    "'ninth',\n",
    "'tenth']\n",
    "n = 0\n",
    "for unigram in count_function['ngram']:\n",
    "    if unigram in number:\n",
    "        n += count_function[count_function.ngram.eq(unigram)].iloc[0]['fcat']\n",
    "n = n / 12\n",
    "n"
   ]
  },
  {
   "cell_type": "markdown",
   "metadata": {},
   "source": [
    "## Second 17 \n",
    "## Chilld"
   ]
  },
  {
   "cell_type": "code",
   "execution_count": 34,
   "metadata": {
    "collapsed": true
   },
   "outputs": [],
   "source": [
    "count_function = unigrams[(unigrams.fcat.eq('F'))&(unigrams.speaker.eq('CHI'))&(unigrams.session > 17)].groupby('ngram').count().reset_index()"
   ]
  },
  {
   "cell_type": "markdown",
   "metadata": {},
   "source": [
    "### determiners child"
   ]
  },
  {
   "cell_type": "code",
   "execution_count": 35,
   "metadata": {},
   "outputs": [
    {
     "data": {
      "text/plain": [
       "2526.0"
      ]
     },
     "execution_count": 35,
     "metadata": {},
     "output_type": "execute_result"
    }
   ],
   "source": [
    "determiners = ['the', 'a', 'an', 'this', 'that', 'these','those', 'such']\n",
    "n = 0\n",
    "for unigram in count_function['ngram']:\n",
    "    if unigram in determiners:\n",
    "        n += count_function[count_function.ngram.eq(unigram)].iloc[0]['fcat']\n",
    "n = n / 12\n",
    "n"
   ]
  },
  {
   "cell_type": "markdown",
   "metadata": {},
   "source": [
    "## Conjunctions_child"
   ]
  },
  {
   "cell_type": "code",
   "execution_count": 36,
   "metadata": {},
   "outputs": [
    {
     "data": {
      "text/plain": [
       "453.5"
      ]
     },
     "execution_count": 36,
     "metadata": {},
     "output_type": "execute_result"
    }
   ],
   "source": [
    "conjunctions = ['for', 'And',\n",
    "'therefore',\n",
    "'nor',\n",
    "'but',\n",
    "'or',\n",
    "'thence',\n",
    "'then',\n",
    "'yet',\n",
    "'so',\n",
    "'although',\n",
    "'also',\n",
    "'as',\n",
    "'because',\n",
    "'before',\n",
    "'If',\n",
    "'lest',\n",
    "'since',\n",
    "'than',\n",
    "'once',\n",
    "'only',\n",
    "'though',\n",
    "'til',\n",
    "'unless',\n",
    "'when',\n",
    "'whenever',\n",
    "'where',\n",
    "'wherever',\n",
    "'while',\n",
    "'whereas',\n",
    "'hence']\n",
    "n = 0\n",
    "for unigram in count_function['ngram']:\n",
    "    if unigram in conjunctions:\n",
    "        n += count_function[count_function.ngram.eq(unigram)].iloc[0]['fcat']\n",
    "n = n / 12\n",
    "n"
   ]
  },
  {
   "cell_type": "markdown",
   "metadata": {},
   "source": [
    "## prepositions_child"
   ]
  },
  {
   "cell_type": "code",
   "execution_count": 37,
   "metadata": {},
   "outputs": [
    {
     "data": {
      "text/plain": [
       "2917.6666666666665"
      ]
     },
     "execution_count": 37,
     "metadata": {},
     "output_type": "execute_result"
    }
   ],
   "source": [
    "raw_prepositions = open(\"E:/project/formulae-project-master/prepositions.txt\").readlines()\n",
    "prepositions = []\n",
    "for a in raw_prepositions:\n",
    "    prepositions.append(a.strip())\n",
    "prepositions = list(map(str.lower, prepositions))\n",
    "\n",
    "n = 0\n",
    "for unigram in count_function['ngram']:\n",
    "    if unigram in prepositions:\n",
    "        n += count_function[count_function.ngram.eq(unigram)].iloc[0]['fcat']\n",
    "n = n / 12\n",
    "n"
   ]
  },
  {
   "cell_type": "markdown",
   "metadata": {},
   "source": [
    "## pronouns_child"
   ]
  },
  {
   "cell_type": "code",
   "execution_count": 38,
   "metadata": {},
   "outputs": [
    {
     "data": {
      "text/plain": [
       "2699.25"
      ]
     },
     "execution_count": 38,
     "metadata": {},
     "output_type": "execute_result"
    }
   ],
   "source": [
    "raw_pronouns = open(\"E:/project/formulae-project-master/pronouns.txt\").readlines()\n",
    "pronouns = []\n",
    "for a in raw_pronouns:\n",
    "    pronouns.append(a.strip())\n",
    "pronouns = list(map(str.lower, pronouns))\n",
    "\n",
    "n = 0\n",
    "for unigram in count_function['ngram']:\n",
    "    if unigram in pronouns:\n",
    "        n += count_function[count_function.ngram.eq(unigram)].iloc[0]['fcat']\n",
    "n = n / 12\n",
    "n"
   ]
  },
  {
   "cell_type": "markdown",
   "metadata": {},
   "source": [
    "## auxiliaries_child"
   ]
  },
  {
   "cell_type": "code",
   "execution_count": 39,
   "metadata": {},
   "outputs": [
    {
     "data": {
      "text/plain": [
       "1004.5"
      ]
     },
     "execution_count": 39,
     "metadata": {},
     "output_type": "execute_result"
    }
   ],
   "source": [
    "auxiliaries = ['be', 'am', \n",
    "'are',\n",
    "'is',\n",
    "'was',\n",
    "'were',\n",
    "'do',\n",
    "'does',\n",
    "'doing',\n",
    "'did',\n",
    "'done',\n",
    "'got_to',\n",
    "'been',\n",
    "'being']\n",
    "n = 0\n",
    "for unigram in count_function['ngram']:\n",
    "    if unigram in auxiliaries:\n",
    "        n += count_function[count_function.ngram.eq(unigram)].iloc[0]['fcat']\n",
    "n = n / 12\n",
    "n"
   ]
  },
  {
   "cell_type": "markdown",
   "metadata": {},
   "source": [
    "## modals_child"
   ]
  },
  {
   "cell_type": "code",
   "execution_count": 40,
   "metadata": {},
   "outputs": [
    {
     "data": {
      "text/plain": [
       "242.83333333333334"
      ]
     },
     "execution_count": 40,
     "metadata": {},
     "output_type": "execute_result"
    }
   ],
   "source": [
    "modals = [\n",
    "'can',\n",
    "'cannot',\n",
    "'could',\n",
    "'should',\n",
    "'shall',\n",
    "'may',\n",
    "'might',\n",
    "'must',\n",
    "'will',\n",
    "'would',\n",
    "'ought']\n",
    "n = 0\n",
    "for unigram in count_function['ngram']:\n",
    "    if unigram in modals:\n",
    "        n += count_function[count_function.ngram.eq(unigram)].iloc[0]['fcat']\n",
    "n = n / 12\n",
    "n"
   ]
  },
  {
   "cell_type": "markdown",
   "metadata": {},
   "source": [
    "## quantifiers_child"
   ]
  },
  {
   "cell_type": "code",
   "execution_count": 41,
   "metadata": {},
   "outputs": [
    {
     "data": {
      "text/plain": [
       "1617.0833333333333"
      ]
     },
     "execution_count": 41,
     "metadata": {},
     "output_type": "execute_result"
    }
   ],
   "source": [
    "raw_quantifiers = open(\"E:/project/formulae-project-master/quantifiers.txt\").readlines()\n",
    "quantifiers = []\n",
    "for a in raw_quantifiers:\n",
    "    quantifiers.append(a.strip())\n",
    "quantifiers = list(map(str.lower, quantifiers))\n",
    "\n",
    "n = 0\n",
    "for unigram in count_function['ngram']:\n",
    "    if unigram in quantifiers:\n",
    "        n += count_function[count_function.ngram.eq(unigram)].iloc[0]['fcat']\n",
    "n = n / 12\n",
    "n"
   ]
  },
  {
   "cell_type": "markdown",
   "metadata": {},
   "source": [
    "## fragments_child"
   ]
  },
  {
   "cell_type": "code",
   "execution_count": 42,
   "metadata": {},
   "outputs": [
    {
     "data": {
      "text/plain": [
       "1705.75"
      ]
     },
     "execution_count": 42,
     "metadata": {},
     "output_type": "execute_result"
    }
   ],
   "source": [
    "fragments = [\n",
    "\"'s\",\n",
    "\"n't\",\n",
    "\"'ve\",\n",
    "\"ca\",\n",
    "\"wo\",\n",
    "\"'re\",\n",
    "\"'m\",\n",
    "\"'d\",\n",
    "\"sha\",\n",
    "\"'ll\"]\n",
    "n = 0\n",
    "for unigram in count_function['ngram']:\n",
    "    if unigram in fragments:\n",
    "        n += count_function[count_function.ngram.eq(unigram)].iloc[0]['fcat']\n",
    "n = n / 12\n",
    "n"
   ]
  },
  {
   "cell_type": "markdown",
   "metadata": {},
   "source": [
    "## question words_child"
   ]
  },
  {
   "cell_type": "code",
   "execution_count": 43,
   "metadata": {},
   "outputs": [
    {
     "data": {
      "text/plain": [
       "356.08333333333331"
      ]
     },
     "execution_count": 43,
     "metadata": {},
     "output_type": "execute_result"
    }
   ],
   "source": [
    "question_words = [\n",
    "'what',\n",
    "'why',\n",
    "'how',\n",
    "'who',\n",
    "'which',\n",
    "'whose',\n",
    "'whom',\n",
    "'whence',\n",
    "'whither']\n",
    "n = 0\n",
    "for unigram in count_function['ngram']:\n",
    "    if unigram in question_words:\n",
    "        n += count_function[count_function.ngram.eq(unigram)].iloc[0]['fcat']\n",
    "n = n / 12\n",
    "n"
   ]
  },
  {
   "cell_type": "markdown",
   "metadata": {},
   "source": [
    "## number_child"
   ]
  },
  {
   "cell_type": "code",
   "execution_count": 44,
   "metadata": {},
   "outputs": [
    {
     "data": {
      "text/plain": [
       "597.58333333333337"
      ]
     },
     "execution_count": 44,
     "metadata": {},
     "output_type": "execute_result"
    }
   ],
   "source": [
    "number = [\n",
    "'one',\n",
    "'two',\n",
    "'three',\n",
    "'four',\n",
    "'five',\n",
    "'six',\n",
    "'seven',\n",
    "'eight',\n",
    "'nine',\n",
    "'ten',\n",
    "'first',\n",
    "'second',\n",
    "'third',\n",
    "'fourth',\n",
    "'fifth',\n",
    "'sixth',\n",
    "'seventh',\n",
    "'eighth',\n",
    "'ninth',\n",
    "'tenth']\n",
    "n = 0\n",
    "for unigram in count_function['ngram']:\n",
    "    if unigram in number:\n",
    "        n += count_function[count_function.ngram.eq(unigram)].iloc[0]['fcat']\n",
    "n = n / 12\n",
    "n"
   ]
  },
  {
   "cell_type": "markdown",
   "metadata": {},
   "source": [
    "## Second 17\n",
    "## Mother"
   ]
  },
  {
   "cell_type": "code",
   "execution_count": 45,
   "metadata": {
    "collapsed": true
   },
   "outputs": [],
   "source": [
    "count_function = unigrams[(unigrams.fcat.eq('F'))&(unigrams.speaker.eq('MOT'))&(unigrams.session > 17)].groupby('ngram').count().reset_index()"
   ]
  },
  {
   "cell_type": "markdown",
   "metadata": {},
   "source": [
    "## determiners_mother"
   ]
  },
  {
   "cell_type": "code",
   "execution_count": 46,
   "metadata": {},
   "outputs": [
    {
     "data": {
      "text/plain": [
       "4979.416666666667"
      ]
     },
     "execution_count": 46,
     "metadata": {},
     "output_type": "execute_result"
    }
   ],
   "source": [
    "determiners = ['the', 'a', 'an', 'this', 'that', 'these','those', 'such']\n",
    "n = 0\n",
    "for unigram in count_function['ngram']:\n",
    "    if unigram in determiners:\n",
    "        n += count_function[count_function.ngram.eq(unigram)].iloc[0]['fcat']\n",
    "n = n / 12\n",
    "n"
   ]
  },
  {
   "cell_type": "markdown",
   "metadata": {},
   "source": [
    "## conjunctions_mother"
   ]
  },
  {
   "cell_type": "code",
   "execution_count": 47,
   "metadata": {},
   "outputs": [
    {
     "data": {
      "text/plain": [
       "1697.5"
      ]
     },
     "execution_count": 47,
     "metadata": {},
     "output_type": "execute_result"
    }
   ],
   "source": [
    "conjunctions = ['for', 'And',\n",
    "'therefore',\n",
    "'nor',\n",
    "'but',\n",
    "'or',\n",
    "'thence',\n",
    "'then',\n",
    "'yet',\n",
    "'so',\n",
    "'although',\n",
    "'also',\n",
    "'as',\n",
    "'because',\n",
    "'before',\n",
    "'If',\n",
    "'lest',\n",
    "'since',\n",
    "'than',\n",
    "'once',\n",
    "'only',\n",
    "'though',\n",
    "'til',\n",
    "'unless',\n",
    "'when',\n",
    "'whenever',\n",
    "'where',\n",
    "'wherever',\n",
    "'while',\n",
    "'whereas',\n",
    "'hence']\n",
    "n = 0\n",
    "for unigram in count_function['ngram']:\n",
    "    if unigram in conjunctions:\n",
    "        n += count_function[count_function.ngram.eq(unigram)].iloc[0]['fcat']\n",
    "n = n / 12\n",
    "n"
   ]
  },
  {
   "cell_type": "markdown",
   "metadata": {},
   "source": [
    "## prepositions_mother"
   ]
  },
  {
   "cell_type": "code",
   "execution_count": 48,
   "metadata": {},
   "outputs": [
    {
     "data": {
      "text/plain": [
       "6237.333333333333"
      ]
     },
     "execution_count": 48,
     "metadata": {},
     "output_type": "execute_result"
    }
   ],
   "source": [
    "raw_prepositions = open(\"E:/project/formulae-project-master/prepositions.txt\").readlines()\n",
    "prepositions = []\n",
    "for a in raw_prepositions:\n",
    "    prepositions.append(a.strip())\n",
    "prepositions = list(map(str.lower, prepositions))\n",
    "\n",
    "n = 0\n",
    "for unigram in count_function['ngram']:\n",
    "    if unigram in prepositions:\n",
    "        n += count_function[count_function.ngram.eq(unigram)].iloc[0]['fcat']\n",
    "n = n / 12\n",
    "n"
   ]
  },
  {
   "cell_type": "markdown",
   "metadata": {},
   "source": [
    "## pronouns_mother"
   ]
  },
  {
   "cell_type": "code",
   "execution_count": 49,
   "metadata": {},
   "outputs": [
    {
     "data": {
      "text/plain": [
       "8739.4166666666661"
      ]
     },
     "execution_count": 49,
     "metadata": {},
     "output_type": "execute_result"
    }
   ],
   "source": [
    "raw_pronouns = open(\"E:/project/formulae-project-master/pronouns.txt\").readlines()\n",
    "pronouns = []\n",
    "for a in raw_pronouns:\n",
    "    pronouns.append(a.strip())\n",
    "pronouns = list(map(str.lower, pronouns))\n",
    "\n",
    "n = 0\n",
    "for unigram in count_function['ngram']:\n",
    "    if unigram in pronouns:\n",
    "        n += count_function[count_function.ngram.eq(unigram)].iloc[0]['fcat']\n",
    "n = n / 12\n",
    "n"
   ]
  },
  {
   "cell_type": "markdown",
   "metadata": {},
   "source": [
    "## auxiliaries_mother"
   ]
  },
  {
   "cell_type": "code",
   "execution_count": 50,
   "metadata": {},
   "outputs": [
    {
     "data": {
      "text/plain": [
       "4225.0"
      ]
     },
     "execution_count": 50,
     "metadata": {},
     "output_type": "execute_result"
    }
   ],
   "source": [
    "auxiliaries = ['be', 'am', \n",
    "'are',\n",
    "'is',\n",
    "'was',\n",
    "'were',\n",
    "'do',\n",
    "'does',\n",
    "'doing',\n",
    "'did',\n",
    "'done',\n",
    "'got_to',\n",
    "'been',\n",
    "'being']\n",
    "n = 0\n",
    "for unigram in count_function['ngram']:\n",
    "    if unigram in auxiliaries:\n",
    "        n += count_function[count_function.ngram.eq(unigram)].iloc[0]['fcat']\n",
    "n = n / 12\n",
    "n"
   ]
  },
  {
   "cell_type": "markdown",
   "metadata": {},
   "source": [
    "## modals_mother"
   ]
  },
  {
   "cell_type": "code",
   "execution_count": 51,
   "metadata": {},
   "outputs": [
    {
     "data": {
      "text/plain": [
       "1019.0"
      ]
     },
     "execution_count": 51,
     "metadata": {},
     "output_type": "execute_result"
    }
   ],
   "source": [
    "modals = [\n",
    "'can',\n",
    "'cannot',\n",
    "'could',\n",
    "'should',\n",
    "'shall',\n",
    "'may',\n",
    "'might',\n",
    "'must',\n",
    "'will',\n",
    "'would',\n",
    "'ought']\n",
    "n = 0\n",
    "for unigram in count_function['ngram']:\n",
    "    if unigram in modals:\n",
    "        n += count_function[count_function.ngram.eq(unigram)].iloc[0]['fcat']\n",
    "n = n / 12\n",
    "n"
   ]
  },
  {
   "cell_type": "markdown",
   "metadata": {},
   "source": [
    "## quantifiers_mother"
   ]
  },
  {
   "cell_type": "code",
   "execution_count": 52,
   "metadata": {},
   "outputs": [
    {
     "data": {
      "text/plain": [
       "2225.5833333333335"
      ]
     },
     "execution_count": 52,
     "metadata": {},
     "output_type": "execute_result"
    }
   ],
   "source": [
    "raw_quantifiers = open(\"E:/project/formulae-project-master/quantifiers.txt\").readlines()\n",
    "quantifiers = []\n",
    "for a in raw_quantifiers:\n",
    "    quantifiers.append(a.strip())\n",
    "quantifiers = list(map(str.lower, quantifiers))\n",
    "\n",
    "n = 0\n",
    "for unigram in count_function['ngram']:\n",
    "    if unigram in quantifiers:\n",
    "        n += count_function[count_function.ngram.eq(unigram)].iloc[0]['fcat']\n",
    "n = n / 12\n",
    "n"
   ]
  },
  {
   "cell_type": "markdown",
   "metadata": {},
   "source": [
    "## fragments_mother"
   ]
  },
  {
   "cell_type": "code",
   "execution_count": 53,
   "metadata": {},
   "outputs": [
    {
     "data": {
      "text/plain": [
       "5121.916666666667"
      ]
     },
     "execution_count": 53,
     "metadata": {},
     "output_type": "execute_result"
    }
   ],
   "source": [
    "fragments = [\n",
    "\"'s\",\n",
    "\"n't\",\n",
    "\"'ve\",\n",
    "\"ca\",\n",
    "\"wo\",\n",
    "\"'re\",\n",
    "\"'m\",\n",
    "\"'d\",\n",
    "\"sha\",\n",
    "\"'ll\"]\n",
    "n = 0\n",
    "for unigram in count_function['ngram']:\n",
    "    if unigram in fragments:\n",
    "        n += count_function[count_function.ngram.eq(unigram)].iloc[0]['fcat']\n",
    "n = n / 12\n",
    "n"
   ]
  },
  {
   "cell_type": "markdown",
   "metadata": {},
   "source": [
    "## question_words_mother"
   ]
  },
  {
   "cell_type": "code",
   "execution_count": 54,
   "metadata": {},
   "outputs": [
    {
     "data": {
      "text/plain": [
       "1487.8333333333333"
      ]
     },
     "execution_count": 54,
     "metadata": {},
     "output_type": "execute_result"
    }
   ],
   "source": [
    "question_words = [\n",
    "'what',\n",
    "'why',\n",
    "'how',\n",
    "'who',\n",
    "'which',\n",
    "'whose',\n",
    "'whom',\n",
    "'whence',\n",
    "'whither']\n",
    "n = 0\n",
    "for unigram in count_function['ngram']:\n",
    "    if unigram in question_words:\n",
    "        n += count_function[count_function.ngram.eq(unigram)].iloc[0]['fcat']\n",
    "n = n / 12\n",
    "n"
   ]
  },
  {
   "cell_type": "markdown",
   "metadata": {},
   "source": [
    "## number_mother"
   ]
  },
  {
   "cell_type": "code",
   "execution_count": 55,
   "metadata": {},
   "outputs": [
    {
     "data": {
      "text/plain": [
       "690.25"
      ]
     },
     "execution_count": 55,
     "metadata": {},
     "output_type": "execute_result"
    }
   ],
   "source": [
    "number = [\n",
    "'one',\n",
    "'two',\n",
    "'three',\n",
    "'four',\n",
    "'five',\n",
    "'six',\n",
    "'seven',\n",
    "'eight',\n",
    "'nine',\n",
    "'ten',\n",
    "'first',\n",
    "'second',\n",
    "'third',\n",
    "'fourth',\n",
    "'fifth',\n",
    "'sixth',\n",
    "'seventh',\n",
    "'eighth',\n",
    "'ninth',\n",
    "'tenth']\n",
    "n = 0\n",
    "for unigram in count_function['ngram']:\n",
    "    if unigram in number:\n",
    "        n += count_function[count_function.ngram.eq(unigram)].iloc[0]['fcat']\n",
    "n = n / 12\n",
    "n"
   ]
  },
  {
   "cell_type": "markdown",
   "metadata": {},
   "source": [
    "## Plot"
   ]
  },
  {
   "cell_type": "code",
   "execution_count": 59,
   "metadata": {
    "collapsed": true
   },
   "outputs": [],
   "source": [
    "df = pd.read_excel('count function words 17.xlsx')"
   ]
  },
  {
   "cell_type": "code",
   "execution_count": 60,
   "metadata": {},
   "outputs": [
    {
     "data": {
      "image/png": "[encoded data removed]",
      "text/plain": [
       "<matplotlib.figure.Figure at 0x1c178240cc0>"
      ]
     },
     "metadata": {},
     "output_type": "display_data"
    }
   ],
   "source": [
    "ax = df.set_index('function').plot.bar(rot=0, title='count for every category of function words across all sessions and children ', \n",
    "                                  figsize=(15,5), fontsize=12, grid = True)"
   ]
  }
 ],
 "metadata": {
  "kernelspec": {
   "display_name": "Python 3",
   "language": "python",
   "name": "python3"
  },
  "language_info": {
   "codemirror_mode": {
    "name": "ipython",
    "version": 3
   },
   "file_extension": ".py",
   "mimetype": "text/x-python",
   "name": "python",
   "nbconvert_exporter": "python",
   "pygments_lexer": "ipython3",
   "version": "3.6.1"
  }
 },
 "nbformat": 4,
 "nbformat_minor": 2
}
