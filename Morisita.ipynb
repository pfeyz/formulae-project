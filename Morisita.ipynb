{
 "cells": [
  {
   "cell_type": "code",
   "execution_count": 1,
   "metadata": {
    "collapsed": true
   },
   "outputs": [],
   "source": [
    "%matplotlib inline\n",
    "import pandas as pd\n",
    "import numpy as np\n",
    "import matplotlib.pyplot as plt\n",
    "\n",
    "from dataset import get_manchester"
   ]
  },
  {
   "cell_type": "code",
   "execution_count": 2,
   "metadata": {
    "collapsed": true
   },
   "outputs": [],
   "source": [
    "def morisita(a, b, randomize=False):\n",
    "    if randomize:\n",
    "        b.index = np.random.permutation(b.index)\n",
    "    a, b = a.align(b, fill_value=0)\n",
    "    numer = np.dot(a, b)\n",
    "    denom = np.square(a).sum() + np.square(b).sum()\n",
    "    return 2 * numer / denom"
   ]
  },
  {
   "cell_type": "code",
   "execution_count": 3,
   "metadata": {
    "collapsed": true
   },
   "outputs": [],
   "source": [
    "def morisita_child_adult(df):\n",
    "    child = df[df.speaker.eq('CHI')].ngram.value_counts()\n",
    "    adult = df[df.speaker.eq('MOT')].ngram.value_counts()\n",
    "    return morisita(child, adult)"
   ]
  },
  {
   "cell_type": "code",
   "execution_count": 4,
   "metadata": {
    "collapsed": true
   },
   "outputs": [],
   "source": [
    "def per_session_plot(title):\n",
    "    plt.grid()\n",
    "    plt.xticks(np.arange(1,35))\n",
    "    plt.title(title)\n",
    "    plt.legend()\n",
    "    plt.show()"
   ]
  },
  {
   "cell_type": "markdown",
   "metadata": {},
   "source": [
    "# Quick Test \n",
    "\n",
    "Testing example from \"Testing for Significance of Morisita's, Horn's and Related Measures of Overlap\"\n",
    "\n",
    "The morisita calculation for X and Y should be 0.83"
   ]
  },
  {
   "cell_type": "code",
   "execution_count": 5,
   "metadata": {},
   "outputs": [
    {
     "data": {
      "text/plain": [
       "0.83333333333333326"
      ]
     },
     "execution_count": 5,
     "metadata": {},
     "output_type": "execute_result"
    }
   ],
   "source": [
    "x = pd.Series([.2, .3, .5])\n",
    "y = pd.Series([.1, .6, .3])\n",
    "morisita(x, y)"
   ]
  },
  {
   "cell_type": "code",
   "execution_count": 6,
   "metadata": {},
   "outputs": [
    {
     "ename": "NameError",
     "evalue": "name 'Truetr' is not defined",
     "output_type": "error",
     "traceback": [
      "\u001b[0;31m---------------------------------------------------------------------------\u001b[0m",
      "\u001b[0;31mNameError\u001b[0m                                 Traceback (most recent call last)",
      "\u001b[0;32m<ipython-input-6-ed3ee472542d>\u001b[0m in \u001b[0;36m<module>\u001b[0;34m()\u001b[0m\n\u001b[0;32m----> 1\u001b[0;31m \u001b[0msource\u001b[0m \u001b[0;34m=\u001b[0m \u001b[0mget_manchester\u001b[0m\u001b[0;34m(\u001b[0m\u001b[0;34m\"/home/paul/corpora/Manchester/**/*\"\u001b[0m\u001b[0;34m,\u001b[0m \u001b[0mcached\u001b[0m\u001b[0;34m=\u001b[0m\u001b[0mTruetr\u001b[0m\u001b[0;34m,\u001b[0m \u001b[0mgram_sizes\u001b[0m\u001b[0;34m=\u001b[0m\u001b[0;34m[\u001b[0m\u001b[0;36m1\u001b[0m\u001b[0;34m]\u001b[0m\u001b[0;34m)\u001b[0m\u001b[0;34m\u001b[0m\u001b[0m\n\u001b[0m\u001b[1;32m      2\u001b[0m \u001b[0munigrams\u001b[0m \u001b[0;34m=\u001b[0m \u001b[0msource\u001b[0m\u001b[0;34m[\u001b[0m\u001b[0;36m0\u001b[0m\u001b[0;34m]\u001b[0m\u001b[0;34m\u001b[0m\u001b[0m\n",
      "\u001b[0;31mNameError\u001b[0m: name 'Truetr' is not defined"
     ]
    }
   ],
   "source": [
    "source = get_manchester(\"/home/paul/corpora/Manchester/**/*\", cached=True, gram_sizes=[1])\n",
    "unigrams = source[0]"
   ]
  },
  {
   "cell_type": "code",
   "execution_count": null,
   "metadata": {},
   "outputs": [],
   "source": [
    "plt.rcParams['figure.figsize'] = 15, 6\n",
    "\n",
    "groups = unigrams.groupby(['corpus', 'session']).apply(morisita_child_adult)\n",
    "stats = groups.groupby(level='session').describe()\n",
    "plt.errorbar(stats.index, stats['mean'], stats['std'], label='mean morisita index w/ std', marker='o');\n",
    "plt.plot(stats.index, stats['min'])\n",
    "plt.plot(stats.index, stats['max'])\n",
    "plt.ylim(0, 1)\n",
    "per_session_plot('Per-session morisita index across all children')"
   ]
  },
  {
   "cell_type": "code",
   "execution_count": null,
   "metadata": {
    "collapsed": true
   },
   "outputs": [],
   "source": [
    "def plot_child(name, width=2, style='-', title=None, plot=True):\n",
    "    m = unigrams[unigrams.corpus.eq(name)].groupby(['session']).apply(morisita_child_adult)\n",
    "    m = m.align(pd.Series(index=np.arange(1, 35)))[0]\n",
    "#    plt.errorbar(stats.index, stats['mean'], stats['std'], label='mean morisita index w/ std', marker='o');\n",
    "    plt.plot(stats.index, m, style, label=name, linewidth=width)\n",
    "    plt.ylim(0, 1)\n",
    "    if plot:\n",
    "        per_session_plot(title or name)"
   ]
  },
  {
   "cell_type": "code",
   "execution_count": null,
   "metadata": {},
   "outputs": [],
   "source": [
    "plt.rcParams['figure.figsize'] = 15, 6\n",
    "\n",
    "children = unigrams.corpus.unique()\n",
    "\n",
    "from itertools import cycle, chain, repeat\n",
    "\n",
    "styles = cycle(chain(*(repeat(x, 10)\n",
    "                 for x in '- -- -. :'.split(' '))))\n",
    "\n",
    "for index, child in enumerate(children):\n",
    "    plot_child(child, 2, next(styles), plot=False)\n",
    "plt.legend();\n",
    "per_session_plot('Morisita index for all children')"
   ]
  },
  {
   "cell_type": "code",
   "execution_count": null,
   "metadata": {
    "scrolled": false
   },
   "outputs": [],
   "source": [
    "plt.rcParams['figure.figsize'] = 15, 4\n",
    "\n",
    "children = unigrams.corpus.unique()\n",
    "\n",
    "for index, child in enumerate(children):\n",
    "    plot_child(child, 2)\n",
    "plt.legend();\n",
    "per_session_plot('Morisita index for all children')"
   ]
  }
 ],
 "metadata": {
  "kernelspec": {
   "display_name": "Python 3",
   "language": "python",
   "name": "python3"
  },
  "language_info": {
   "codemirror_mode": {
    "name": "ipython",
    "version": 3
   },
   "file_extension": ".py",
   "mimetype": "text/x-python",
   "name": "python",
   "nbconvert_exporter": "python",
   "pygments_lexer": "ipython3",
   "version": "3.6.2"
  }
 },
 "nbformat": 4,
 "nbformat_minor": 2
}
